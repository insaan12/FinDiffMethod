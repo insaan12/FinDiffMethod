{
 "cells": [
  {
   "cell_type": "code",
   "execution_count": 1,
   "metadata": {
    "collapsed": false
   },
   "outputs": [],
   "source": [
    "import numpy as np\n",
    "import scipy.stats as ss\n",
    "import time\n",
    "\n",
    "#Black and Scholes\n",
    "def d1(S0, K, r, sigma, T):\n",
    "    return (np.log(S0/K) + (r + sigma**2 / 2) * T)/(sigma * np.sqrt(T))\n",
    " \n",
    "def d2(S0, K, r, sigma, T):\n",
    "    return (np.log(S0 / K) + (r - sigma**2 / 2) * T) / (sigma * np.sqrt(T))\n",
    " \n",
    "def BlackScholes(type,S0, K, r, sigma, T):\n",
    "    if type==\"C\":\n",
    "        return S0 * ss.norm.cdf(d1(S0, K, r, sigma, T)) - \\\n",
    "                K * np.exp(-r * T) * ss.norm.cdf(d2(S0, K, r, sigma, T))\n",
    "    else:\n",
    "       return K * np.exp(-r * T) * ss.norm.cdf(-d2(S0, K, r, sigma, T)) - \\\n",
    "                S0 * ss.norm.cdf(-d1(S0, K, r, sigma, T))"
   ]
  },
  {
   "cell_type": "code",
   "execution_count": 2,
   "metadata": {
    "collapsed": false
   },
   "outputs": [
    {
     "name": "stdout",
     "output_type": "stream",
     "text": [
      "call Black-Scholes price: 2.0704673009 4.12472437445 0.00400018692017\n"
     ]
    }
   ],
   "source": [
    "start=time.time()\n",
    "c_BS = BlackScholes('C', 29.0, 32.0, 0.03, 0.25, 1.0)\n",
    "p_BS = BlackScholes('P', 29.0, 32.0, 0.03, 0.25, 1.0)\n",
    "elapsed=time.time()-start\n",
    "print \"call Black-Scholes price:\", c_BS, p_BS, elapsed"
   ]
  },
  {
   "cell_type": "code",
   "execution_count": 3,
   "metadata": {
    "collapsed": true
   },
   "outputs": [],
   "source": [
    "import matplotlib.pyplot as plt\n",
    "%matplotlib inline\n",
    "import pandas as pd\n",
    "import math\n",
    "\n",
    "def FDM_Explicit(type,S0,K,r,sigma,T,n):\n",
    "    dt = T/n\n",
    "    dx = sigma*np.sqrt(3*dt)         #user-defined\n",
    "    v = r - 0.5*(sigma**2)\n",
    "    p_u = 0.5*((sigma**2*dt/dx**2)+(v*dt/dx))\n",
    "    p_m = 1 - (sigma**2*dt/dx**2)\n",
    "    p_d = 0.5*((sigma**2*dt/dx**2)-(v*dt/dx))\n",
    "    disc = 1/(1+r*dt)\n",
    "\n",
    "    Lattice = np.zeros((2*n+1,n+1))\n",
    "    Lattice[n,0] = S0\n",
    "\n",
    "#The diagonal elements to T_n\n",
    "    for j in range(1,n+1):\n",
    "        Lattice[n-j,j]=Lattice[n-(j-1),j-1]*math.exp(dx)\n",
    "        Lattice[n+j,j]=Lattice[n+(j-1),j-1]*math.exp(-dx)\n",
    "\n",
    "#The elements in between to complete the lattice\n",
    "    for j in range(1,n+1):\n",
    "        Lattice[j,n-j+1:n+1]=Lattice[j,n-j] #values in row j top half\n",
    "        #(horizontal mirror of lower triangular)\n",
    "\n",
    "    for j in range(n+1,2*n+1):\n",
    "        Lattice[j,j-n+1:n+1]=Lattice[j,j-n] #values in row j bottom half(upper triangular)\n",
    "\n",
    "#For option price\n",
    "    Opt = np.zeros((2*n+1,n+1))\n",
    "    if type==\"C\":\n",
    "        Opt[:,n] = np.maximum(Lattice[:,n]-K,0)\n",
    "    else:\n",
    "        Opt[:,n] = np.maximum(-Lattice[:,n]+K,0)\n",
    "\n",
    "#Boundary conditions\n",
    "    Top =  Lattice[0,n]-Lattice[1,n]\n",
    "    Bottom = Lattice[2*n,n]-Lattice[2*n-1,n]\n",
    "\n",
    "    if type==\"C\":\n",
    "        for j in range(n-1, -1, -1):\n",
    "            Opt[0,j]=Top                       \n",
    "            Opt[2*n,j] = 0\n",
    "            for i in range(1,2*n-1):\n",
    "                Opt[i,j]=disc*(p_u*Opt[i-1,j+1]+p_m*Opt[i,j+1]+p_d*Opt[i+1,j+1])\n",
    "    else:\n",
    "        for j in range(n-1, -1, -1):\n",
    "            Opt[2*n,j]=Bottom                       \n",
    "            Opt[0,j] = 0\n",
    "            for i in range(1,2*n-1):\n",
    "                Opt[i,j]=disc*(p_u*Opt[i-1,j+1]+p_m*Opt[i,j+1]+p_d*Opt[i+1,j+1])\n",
    "\n",
    "    Price = Opt[n,0]\n",
    "    return Price\n",
    "#ref: http://www.goddardconsulting.ca/option-pricing-finite-diff-explicit.html"
   ]
  },
  {
   "cell_type": "code",
   "execution_count": 4,
   "metadata": {
    "collapsed": false
   },
   "outputs": [
    {
     "data": {
      "text/plain": [
       "2.0717843074810292"
      ]
     },
     "execution_count": 4,
     "metadata": {},
     "output_type": "execute_result"
    }
   ],
   "source": [
    "FDM_Explicit('C',29.0,32.0,0.03,0.25,1.0,100)"
   ]
  },
  {
   "cell_type": "code",
   "execution_count": 5,
   "metadata": {
    "collapsed": false
   },
   "outputs": [
    {
     "data": {
      "text/plain": [
       "4.1260508551191446"
      ]
     },
     "execution_count": 5,
     "metadata": {},
     "output_type": "execute_result"
    }
   ],
   "source": [
    "FDM_Explicit('p',29.0,32.0,0.03,0.25,1.0,100)"
   ]
  },
  {
   "cell_type": "code",
   "execution_count": 6,
   "metadata": {
    "collapsed": true
   },
   "outputs": [],
   "source": [
    "def FDM_Implicit(type,S0,K,r,sigma,T,n):\n",
    "    dt = T/n\n",
    "    dx = sigma*np.sqrt(3*dt)           #user-defined\n",
    "    v = r - 0.5*(sigma**2)\n",
    "    p_u = -0.5*((sigma**2*dt/dx**2)+(v*dt/dx))\n",
    "    p_m = 1 + (sigma**2*dt/dx**2)+ r*dt\n",
    "    p_d = -0.5*((sigma**2*dt/dx**2)-(v*dt/dx))\n",
    "    \n",
    "    # Probability Matrix\n",
    "    P=np.zeros((2*n+1,2*n+1))\n",
    "    for i in range(n-(n-1),n+(n-1)+1):\n",
    "        P[i,i-1]=p_u\n",
    "        P[i,i]=p_m\n",
    "        P[i,i+1]=p_d\n",
    "    P[((0,2*n),(0,2*n-1))]=1\n",
    "    P[((0,2*n),(1,2*n))]=-1\n",
    "    \n",
    "    disc = 1/(1+r*dt)\n",
    "\n",
    "    Lattice = np.zeros((2*n+1,n+1))\n",
    "    Lattice[n,0] = S0\n",
    "\n",
    "#The diagonal elements to T_n\n",
    "    for j in range(1,n+1):\n",
    "        Lattice[n-j,j]=Lattice[n-(j-1),j-1]*math.exp(dx)\n",
    "        Lattice[n+j,j]=Lattice[n+(j-1),j-1]*math.exp(-dx)\n",
    "\n",
    "#The elements in between to complete the lattice\n",
    "    for j in range(1,n+1):\n",
    "        Lattice[j,n-j+1:n+1]=Lattice[j,n-j] #values in row j top half\n",
    "        #(horizontal mirror of lower triangular)\n",
    "\n",
    "    for j in range(n+1,2*n+1):\n",
    "        Lattice[j,j-n+1:n+1]=Lattice[j,j-n] #values in row j bottom half(upper triangular)\n",
    "\n",
    "#For option price\n",
    "    Opt = np.zeros((2*n+1,n+1))\n",
    "    if type==\"C\":\n",
    "        Opt[:,n] = np.maximum(Lattice[:,n]-K,0)\n",
    "    else:\n",
    "        Opt[:,n] = np.maximum(-Lattice[:,n]+K,0)\n",
    "\n",
    "#Boundary conditions\n",
    "    Top =  Lattice[0,n]-Lattice[1,n]\n",
    "    Bottom = Lattice[2*n,n]-Lattice[2*n-1,n]\n",
    "    \n",
    "    Price=np.zeros((2*n+1,1))\n",
    "\n",
    "#form matrix equation Probability*Price = Call or Put\n",
    "    if type==\"C\":\n",
    "        Call = np.zeros((2*n+1,1))\n",
    "        Call[1:2*n,0]=Opt[1:2*n,n]\n",
    "        Call[0,0]=Top\n",
    "        Call[2*n,0]=0\n",
    "        \n",
    "        for j in range(n, -1, -1):\n",
    "            Price=np.dot(np.linalg.inv(P),Call)\n",
    "            Opt[:,j-1]=Price[:,0]\n",
    "            Call[:,0]=Price[:,0]\n",
    "        Answer=Opt[n,0]\n",
    "    else:\n",
    "        Put = np.zeros((2*n+1,1))\n",
    "        Put[1:2*n,0]=Opt[1:2*n,n]\n",
    "        Put[0,0]=0\n",
    "        Put[2*n,0]=Bottom\n",
    "        \n",
    "        for j in range(n, -1, -1):\n",
    "            Price=np.dot(np.linalg.inv(P),Put)\n",
    "            Opt[:,j-1]=Price[:,0]\n",
    "            Put[:,0]=Price[:,0]\n",
    "        Answer=Opt[n,0]\n",
    "\n",
    "    return Answer\n",
    "\n",
    "#Ref: http://www.goddardconsulting.ca/option-pricing-finite-diff-implicit.html"
   ]
  },
  {
   "cell_type": "code",
   "execution_count": 7,
   "metadata": {
    "collapsed": false
   },
   "outputs": [
    {
     "data": {
      "text/plain": [
       "2.0664152161555989"
      ]
     },
     "execution_count": 7,
     "metadata": {},
     "output_type": "execute_result"
    }
   ],
   "source": [
    "FDM_Implicit('C',29.0,32.0,0.03,0.25,1.0,100)"
   ]
  },
  {
   "cell_type": "code",
   "execution_count": 8,
   "metadata": {
    "collapsed": false
   },
   "outputs": [
    {
     "data": {
      "text/plain": [
       "4.1206817247149949"
      ]
     },
     "execution_count": 8,
     "metadata": {},
     "output_type": "execute_result"
    }
   ],
   "source": [
    "FDM_Implicit('P',29.0,32.0,0.03,0.25,1.0,100)"
   ]
  },
  {
   "cell_type": "code",
   "execution_count": 9,
   "metadata": {
    "collapsed": false
   },
   "outputs": [
    {
     "data": {
      "image/png": "[encoded data removed]",
      "text/plain": [
       "<matplotlib.figure.Figure at 0x447b208>"
      ]
     },
     "metadata": {},
     "output_type": "display_data"
    }
   ],
   "source": [
    "Analytical_Price = BlackScholes('C',29.0,32.0,0.03,0.25,1.0)\n",
    "time_steps = np.arange(10, 360, 10)\n",
    "Error=np.zeros(len(time_steps))\n",
    "for i in time_steps:\n",
    "    Error[time_steps==i]= FDM_Explicit('C',29.0,32.0,0.03,0.25,1.0,i) - Analytical_Price\n",
    "\n",
    "plt.plot(time_steps,Error)\n",
    "plt.title('Plot of Error for Explicit method vs n')\n",
    "plt.xlabel('n')\n",
    "plt.ylabel('Error')\n",
    "plt.grid(True)\n",
    "plt.show()    "
   ]
  },
  {
   "cell_type": "code",
   "execution_count": 11,
   "metadata": {
    "collapsed": false
   },
   "outputs": [
    {
     "data": {
      "image/png": "[encoded data removed]",
      "text/plain": [
       "<matplotlib.figure.Figure at 0x447b080>"
      ]
     },
     "metadata": {},
     "output_type": "display_data"
    }
   ],
   "source": [
    "Error2=np.zeros(len(time_steps))\n",
    "for i in time_steps:\n",
    "    Error2[time_steps==i]= FDM_Implicit('C',29.0,32.0,0.03,0.25,1.0,i) - Analytical_Price\n",
    "\n",
    "plt.plot(time_steps,Error2)\n",
    "plt.title('Plot of Error for Implicit method vs n')\n",
    "plt.xlabel('n')\n",
    "plt.ylabel('Error')\n",
    "plt.grid(True)\n",
    "plt.show() "
   ]
  },
  {
   "cell_type": "code",
   "execution_count": 12,
   "metadata": {
    "collapsed": false
   },
   "outputs": [
    {
     "name": "stdout",
     "output_type": "stream",
     "text": [
      "[ 2.08754271  2.03778422  2.07268691  2.0789545   2.0767545   2.07169923\n",
      "  2.06573843  2.06321881  2.06874821  2.07178431  2.07317381  2.0734516\n",
      "  2.07296725  2.07195556  2.07057791  2.06894729  2.06714405  2.06761652\n",
      "  2.06929784  2.0704929   2.07129142  2.07176484  2.07197056  2.07195501\n",
      "  2.07175608  2.07140482  2.07092688  2.0703435   2.06967242  2.06892848\n",
      "  2.06819865  2.06906278  2.06976108  2.07031264  2.07073413]\n",
      "[ 2.03901851  2.01004775  2.05477435  2.06563936  2.06609108  2.06276756\n",
      "  2.05803153  2.0564516   2.06276388  2.06641522  2.06830067  2.06898676\n",
      "  2.06884447  2.06812365  2.06699648  2.06558392  2.06397232  2.06462187\n",
      "  2.06646532  2.06780519  2.06873381  2.06932476  2.06963717  2.06971893\n",
      "  2.06960909  2.06933974  2.06893734  2.06842389  2.06781772  2.06713418\n",
      "  2.06646087  2.06738067  2.06813104  2.06873141  2.06919872]\n"
     ]
    }
   ],
   "source": [
    "Explicit_method_prices = Error + Analytical_Price\n",
    "Implicit_method_prices = Error2+ Analytical_Price\n",
    "\n",
    "#for time steps 10, 20,...350, call option prices\n",
    "print Explicit_method_prices\n",
    "print Implicit_method_prices"
   ]
  }
 ],
 "metadata": {
  "kernelspec": {
   "display_name": "Python 2",
   "language": "python",
   "name": "python2"
  },
  "language_info": {
   "codemirror_mode": {
    "name": "ipython",
    "version": 2
   },
   "file_extension": ".py",
   "mimetype": "text/x-python",
   "name": "python",
   "nbconvert_exporter": "python",
   "pygments_lexer": "ipython2",
   "version": "2.7.13"
  }
 },
 "nbformat": 4,
 "nbformat_minor": 0
}
